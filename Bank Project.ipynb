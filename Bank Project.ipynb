{
 "cells": [
  {
   "cell_type": "code",
   "execution_count": 2,
   "id": "4588e00c-e39c-4a6d-a73a-33fdf33191c9",
   "metadata": {},
   "outputs": [],
   "source": [
    "import pandas as pd\n",
    "import numpy as np \n",
    "import matplotlib.pyplot as plt\n",
    "import seaborn as sns"
   ]
  },
  {
   "cell_type": "code",
   "execution_count": 3,
   "id": "c4179e41-1d6d-49e9-af67-9c1630608791",
   "metadata": {},
   "outputs": [
    {
     "name": "stdout",
     "output_type": "stream",
     "text": [
      "      age            job  marital  education default  balance housing loan  \\\n",
      "0      30     unemployed  married    primary      no   1787.0      no   no   \n",
      "1      33       services  married  secondary      no   4789.0     yes  yes   \n",
      "2      35     management   single   tertiary      no   1350.0     yes   no   \n",
      "3      30     management  married   tertiary      no   1476.0     yes  yes   \n",
      "4      59    blue-collar  married  secondary      no      0.0     yes   no   \n",
      "...   ...            ...      ...        ...     ...      ...     ...  ...   \n",
      "4516   33       services  married  secondary      no   -333.0     yes   no   \n",
      "4517   57  self-employed  married   tertiary     yes  -3313.0     yes  yes   \n",
      "4518   57     technician  married  secondary      no    295.0      no   no   \n",
      "4519   28    blue-collar  married  secondary      no   1137.0      no   no   \n",
      "4520   44   entrepreneur   single   tertiary      no   1136.0     yes  yes   \n",
      "\n",
      "       contact  day month  duration  campaign  pdays  previous poutcome   y  \n",
      "0     cellular   19   oct        79       1.0     -1         0  unknown  no  \n",
      "1     cellular   11   may       220       1.0    339         4  failure  no  \n",
      "2     cellular   16   apr       185       1.0    330         1  failure  no  \n",
      "3      unknown    3   jun       199       NaN     -1         0  unknown  no  \n",
      "4      unknown    5   may       226       NaN     -1         0  unknown  no  \n",
      "...        ...  ...   ...       ...       ...    ...       ...      ...  ..  \n",
      "4516  cellular   30   jul       329       5.0     -1         0  unknown  no  \n",
      "4517   unknown    9   may       153       1.0     -1         0  unknown  no  \n",
      "4518  cellular   19   aug       151      11.0     -1         0  unknown  no  \n",
      "4519  cellular    6   feb       129       4.0    211         3    other  no  \n",
      "4520  cellular    3   apr       345       2.0    249         7    other  no  \n",
      "\n",
      "[4521 rows x 17 columns]\n"
     ]
    }
   ],
   "source": [
    "data= pd.read_csv(\"bank.csv\")\n",
    "print(data)"
   ]
  },
  {
   "cell_type": "code",
   "execution_count": 4,
   "id": "db17103b-453a-4574-b965-051630773eac",
   "metadata": {},
   "outputs": [],
   "source": [
    "df=data.copy()"
   ]
  },
  {
   "cell_type": "code",
   "execution_count": 5,
   "id": "e0d605a8-08d1-44bd-8d0e-f9cbe46951f0",
   "metadata": {},
   "outputs": [
    {
     "data": {
      "text/html": [
       "<div>\n",
       "<style scoped>\n",
       "    .dataframe tbody tr th:only-of-type {\n",
       "        vertical-align: middle;\n",
       "    }\n",
       "\n",
       "    .dataframe tbody tr th {\n",
       "        vertical-align: top;\n",
       "    }\n",
       "\n",
       "    .dataframe thead th {\n",
       "        text-align: right;\n",
       "    }\n",
       "</style>\n",
       "<table border=\"1\" class=\"dataframe\">\n",
       "  <thead>\n",
       "    <tr style=\"text-align: right;\">\n",
       "      <th></th>\n",
       "      <th>age</th>\n",
       "      <th>job</th>\n",
       "      <th>marital</th>\n",
       "      <th>education</th>\n",
       "      <th>default</th>\n",
       "      <th>balance</th>\n",
       "      <th>housing</th>\n",
       "      <th>loan</th>\n",
       "      <th>contact</th>\n",
       "      <th>day</th>\n",
       "      <th>month</th>\n",
       "      <th>duration</th>\n",
       "      <th>campaign</th>\n",
       "      <th>pdays</th>\n",
       "      <th>previous</th>\n",
       "      <th>poutcome</th>\n",
       "      <th>y</th>\n",
       "    </tr>\n",
       "  </thead>\n",
       "  <tbody>\n",
       "    <tr>\n",
       "      <th>0</th>\n",
       "      <td>30</td>\n",
       "      <td>unemployed</td>\n",
       "      <td>married</td>\n",
       "      <td>primary</td>\n",
       "      <td>no</td>\n",
       "      <td>1787.0</td>\n",
       "      <td>no</td>\n",
       "      <td>no</td>\n",
       "      <td>cellular</td>\n",
       "      <td>19</td>\n",
       "      <td>oct</td>\n",
       "      <td>79</td>\n",
       "      <td>1.0</td>\n",
       "      <td>-1</td>\n",
       "      <td>0</td>\n",
       "      <td>unknown</td>\n",
       "      <td>no</td>\n",
       "    </tr>\n",
       "    <tr>\n",
       "      <th>1</th>\n",
       "      <td>33</td>\n",
       "      <td>services</td>\n",
       "      <td>married</td>\n",
       "      <td>secondary</td>\n",
       "      <td>no</td>\n",
       "      <td>4789.0</td>\n",
       "      <td>yes</td>\n",
       "      <td>yes</td>\n",
       "      <td>cellular</td>\n",
       "      <td>11</td>\n",
       "      <td>may</td>\n",
       "      <td>220</td>\n",
       "      <td>1.0</td>\n",
       "      <td>339</td>\n",
       "      <td>4</td>\n",
       "      <td>failure</td>\n",
       "      <td>no</td>\n",
       "    </tr>\n",
       "    <tr>\n",
       "      <th>2</th>\n",
       "      <td>35</td>\n",
       "      <td>management</td>\n",
       "      <td>single</td>\n",
       "      <td>tertiary</td>\n",
       "      <td>no</td>\n",
       "      <td>1350.0</td>\n",
       "      <td>yes</td>\n",
       "      <td>no</td>\n",
       "      <td>cellular</td>\n",
       "      <td>16</td>\n",
       "      <td>apr</td>\n",
       "      <td>185</td>\n",
       "      <td>1.0</td>\n",
       "      <td>330</td>\n",
       "      <td>1</td>\n",
       "      <td>failure</td>\n",
       "      <td>no</td>\n",
       "    </tr>\n",
       "    <tr>\n",
       "      <th>3</th>\n",
       "      <td>30</td>\n",
       "      <td>management</td>\n",
       "      <td>married</td>\n",
       "      <td>tertiary</td>\n",
       "      <td>no</td>\n",
       "      <td>1476.0</td>\n",
       "      <td>yes</td>\n",
       "      <td>yes</td>\n",
       "      <td>unknown</td>\n",
       "      <td>3</td>\n",
       "      <td>jun</td>\n",
       "      <td>199</td>\n",
       "      <td>NaN</td>\n",
       "      <td>-1</td>\n",
       "      <td>0</td>\n",
       "      <td>unknown</td>\n",
       "      <td>no</td>\n",
       "    </tr>\n",
       "    <tr>\n",
       "      <th>4</th>\n",
       "      <td>59</td>\n",
       "      <td>blue-collar</td>\n",
       "      <td>married</td>\n",
       "      <td>secondary</td>\n",
       "      <td>no</td>\n",
       "      <td>0.0</td>\n",
       "      <td>yes</td>\n",
       "      <td>no</td>\n",
       "      <td>unknown</td>\n",
       "      <td>5</td>\n",
       "      <td>may</td>\n",
       "      <td>226</td>\n",
       "      <td>NaN</td>\n",
       "      <td>-1</td>\n",
       "      <td>0</td>\n",
       "      <td>unknown</td>\n",
       "      <td>no</td>\n",
       "    </tr>\n",
       "  </tbody>\n",
       "</table>\n",
       "</div>"
      ],
      "text/plain": [
       "   age          job  marital  education default  balance housing loan  \\\n",
       "0   30   unemployed  married    primary      no   1787.0      no   no   \n",
       "1   33     services  married  secondary      no   4789.0     yes  yes   \n",
       "2   35   management   single   tertiary      no   1350.0     yes   no   \n",
       "3   30   management  married   tertiary      no   1476.0     yes  yes   \n",
       "4   59  blue-collar  married  secondary      no      0.0     yes   no   \n",
       "\n",
       "    contact  day month  duration  campaign  pdays  previous poutcome   y  \n",
       "0  cellular   19   oct        79       1.0     -1         0  unknown  no  \n",
       "1  cellular   11   may       220       1.0    339         4  failure  no  \n",
       "2  cellular   16   apr       185       1.0    330         1  failure  no  \n",
       "3   unknown    3   jun       199       NaN     -1         0  unknown  no  \n",
       "4   unknown    5   may       226       NaN     -1         0  unknown  no  "
      ]
     },
     "execution_count": 5,
     "metadata": {},
     "output_type": "execute_result"
    }
   ],
   "source": [
    "df.head()\n",
    "# df.tail()"
   ]
  },
  {
   "cell_type": "code",
   "execution_count": 6,
   "id": "9b24d9d6-f0c8-4d24-b64a-cea6c0b62498",
   "metadata": {},
   "outputs": [
    {
     "data": {
      "text/plain": [
       "Index(['age', 'job', 'marital', 'education', 'default', 'balance', 'housing',\n",
       "       'loan', 'contact', 'day', 'month', 'duration', 'campaign', 'pdays',\n",
       "       'previous', 'poutcome', 'y'],\n",
       "      dtype='object')"
      ]
     },
     "execution_count": 6,
     "metadata": {},
     "output_type": "execute_result"
    }
   ],
   "source": [
    "df.columns"
   ]
  },
  {
   "cell_type": "code",
   "execution_count": 7,
   "id": "f3b257c0-45c0-4559-b08c-fd2e69c0c3b4",
   "metadata": {},
   "outputs": [
    {
     "data": {
      "text/html": [
       "<div>\n",
       "<style scoped>\n",
       "    .dataframe tbody tr th:only-of-type {\n",
       "        vertical-align: middle;\n",
       "    }\n",
       "\n",
       "    .dataframe tbody tr th {\n",
       "        vertical-align: top;\n",
       "    }\n",
       "\n",
       "    .dataframe thead th {\n",
       "        text-align: right;\n",
       "    }\n",
       "</style>\n",
       "<table border=\"1\" class=\"dataframe\">\n",
       "  <thead>\n",
       "    <tr style=\"text-align: right;\">\n",
       "      <th></th>\n",
       "      <th>Age</th>\n",
       "      <th>Job</th>\n",
       "      <th>Marital</th>\n",
       "      <th>Education</th>\n",
       "      <th>Default</th>\n",
       "      <th>Balance</th>\n",
       "      <th>Housing</th>\n",
       "      <th>Loan</th>\n",
       "      <th>Contact</th>\n",
       "      <th>Day</th>\n",
       "      <th>Month</th>\n",
       "      <th>Duration</th>\n",
       "      <th>Campaign</th>\n",
       "      <th>Pdays</th>\n",
       "      <th>Previous</th>\n",
       "      <th>Poutcome</th>\n",
       "      <th>Y</th>\n",
       "    </tr>\n",
       "  </thead>\n",
       "  <tbody>\n",
       "    <tr>\n",
       "      <th>0</th>\n",
       "      <td>30</td>\n",
       "      <td>unemployed</td>\n",
       "      <td>married</td>\n",
       "      <td>primary</td>\n",
       "      <td>no</td>\n",
       "      <td>1787.0</td>\n",
       "      <td>no</td>\n",
       "      <td>no</td>\n",
       "      <td>cellular</td>\n",
       "      <td>19</td>\n",
       "      <td>oct</td>\n",
       "      <td>79</td>\n",
       "      <td>1.0</td>\n",
       "      <td>-1</td>\n",
       "      <td>0</td>\n",
       "      <td>unknown</td>\n",
       "      <td>no</td>\n",
       "    </tr>\n",
       "    <tr>\n",
       "      <th>1</th>\n",
       "      <td>33</td>\n",
       "      <td>services</td>\n",
       "      <td>married</td>\n",
       "      <td>secondary</td>\n",
       "      <td>no</td>\n",
       "      <td>4789.0</td>\n",
       "      <td>yes</td>\n",
       "      <td>yes</td>\n",
       "      <td>cellular</td>\n",
       "      <td>11</td>\n",
       "      <td>may</td>\n",
       "      <td>220</td>\n",
       "      <td>1.0</td>\n",
       "      <td>339</td>\n",
       "      <td>4</td>\n",
       "      <td>failure</td>\n",
       "      <td>no</td>\n",
       "    </tr>\n",
       "    <tr>\n",
       "      <th>2</th>\n",
       "      <td>35</td>\n",
       "      <td>management</td>\n",
       "      <td>single</td>\n",
       "      <td>tertiary</td>\n",
       "      <td>no</td>\n",
       "      <td>1350.0</td>\n",
       "      <td>yes</td>\n",
       "      <td>no</td>\n",
       "      <td>cellular</td>\n",
       "      <td>16</td>\n",
       "      <td>apr</td>\n",
       "      <td>185</td>\n",
       "      <td>1.0</td>\n",
       "      <td>330</td>\n",
       "      <td>1</td>\n",
       "      <td>failure</td>\n",
       "      <td>no</td>\n",
       "    </tr>\n",
       "    <tr>\n",
       "      <th>3</th>\n",
       "      <td>30</td>\n",
       "      <td>management</td>\n",
       "      <td>married</td>\n",
       "      <td>tertiary</td>\n",
       "      <td>no</td>\n",
       "      <td>1476.0</td>\n",
       "      <td>yes</td>\n",
       "      <td>yes</td>\n",
       "      <td>unknown</td>\n",
       "      <td>3</td>\n",
       "      <td>jun</td>\n",
       "      <td>199</td>\n",
       "      <td>NaN</td>\n",
       "      <td>-1</td>\n",
       "      <td>0</td>\n",
       "      <td>unknown</td>\n",
       "      <td>no</td>\n",
       "    </tr>\n",
       "    <tr>\n",
       "      <th>4</th>\n",
       "      <td>59</td>\n",
       "      <td>blue-collar</td>\n",
       "      <td>married</td>\n",
       "      <td>secondary</td>\n",
       "      <td>no</td>\n",
       "      <td>0.0</td>\n",
       "      <td>yes</td>\n",
       "      <td>no</td>\n",
       "      <td>unknown</td>\n",
       "      <td>5</td>\n",
       "      <td>may</td>\n",
       "      <td>226</td>\n",
       "      <td>NaN</td>\n",
       "      <td>-1</td>\n",
       "      <td>0</td>\n",
       "      <td>unknown</td>\n",
       "      <td>no</td>\n",
       "    </tr>\n",
       "    <tr>\n",
       "      <th>...</th>\n",
       "      <td>...</td>\n",
       "      <td>...</td>\n",
       "      <td>...</td>\n",
       "      <td>...</td>\n",
       "      <td>...</td>\n",
       "      <td>...</td>\n",
       "      <td>...</td>\n",
       "      <td>...</td>\n",
       "      <td>...</td>\n",
       "      <td>...</td>\n",
       "      <td>...</td>\n",
       "      <td>...</td>\n",
       "      <td>...</td>\n",
       "      <td>...</td>\n",
       "      <td>...</td>\n",
       "      <td>...</td>\n",
       "      <td>...</td>\n",
       "    </tr>\n",
       "    <tr>\n",
       "      <th>4516</th>\n",
       "      <td>33</td>\n",
       "      <td>services</td>\n",
       "      <td>married</td>\n",
       "      <td>secondary</td>\n",
       "      <td>no</td>\n",
       "      <td>-333.0</td>\n",
       "      <td>yes</td>\n",
       "      <td>no</td>\n",
       "      <td>cellular</td>\n",
       "      <td>30</td>\n",
       "      <td>jul</td>\n",
       "      <td>329</td>\n",
       "      <td>5.0</td>\n",
       "      <td>-1</td>\n",
       "      <td>0</td>\n",
       "      <td>unknown</td>\n",
       "      <td>no</td>\n",
       "    </tr>\n",
       "    <tr>\n",
       "      <th>4517</th>\n",
       "      <td>57</td>\n",
       "      <td>self-employed</td>\n",
       "      <td>married</td>\n",
       "      <td>tertiary</td>\n",
       "      <td>yes</td>\n",
       "      <td>-3313.0</td>\n",
       "      <td>yes</td>\n",
       "      <td>yes</td>\n",
       "      <td>unknown</td>\n",
       "      <td>9</td>\n",
       "      <td>may</td>\n",
       "      <td>153</td>\n",
       "      <td>1.0</td>\n",
       "      <td>-1</td>\n",
       "      <td>0</td>\n",
       "      <td>unknown</td>\n",
       "      <td>no</td>\n",
       "    </tr>\n",
       "    <tr>\n",
       "      <th>4518</th>\n",
       "      <td>57</td>\n",
       "      <td>technician</td>\n",
       "      <td>married</td>\n",
       "      <td>secondary</td>\n",
       "      <td>no</td>\n",
       "      <td>295.0</td>\n",
       "      <td>no</td>\n",
       "      <td>no</td>\n",
       "      <td>cellular</td>\n",
       "      <td>19</td>\n",
       "      <td>aug</td>\n",
       "      <td>151</td>\n",
       "      <td>11.0</td>\n",
       "      <td>-1</td>\n",
       "      <td>0</td>\n",
       "      <td>unknown</td>\n",
       "      <td>no</td>\n",
       "    </tr>\n",
       "    <tr>\n",
       "      <th>4519</th>\n",
       "      <td>28</td>\n",
       "      <td>blue-collar</td>\n",
       "      <td>married</td>\n",
       "      <td>secondary</td>\n",
       "      <td>no</td>\n",
       "      <td>1137.0</td>\n",
       "      <td>no</td>\n",
       "      <td>no</td>\n",
       "      <td>cellular</td>\n",
       "      <td>6</td>\n",
       "      <td>feb</td>\n",
       "      <td>129</td>\n",
       "      <td>4.0</td>\n",
       "      <td>211</td>\n",
       "      <td>3</td>\n",
       "      <td>other</td>\n",
       "      <td>no</td>\n",
       "    </tr>\n",
       "    <tr>\n",
       "      <th>4520</th>\n",
       "      <td>44</td>\n",
       "      <td>entrepreneur</td>\n",
       "      <td>single</td>\n",
       "      <td>tertiary</td>\n",
       "      <td>no</td>\n",
       "      <td>1136.0</td>\n",
       "      <td>yes</td>\n",
       "      <td>yes</td>\n",
       "      <td>cellular</td>\n",
       "      <td>3</td>\n",
       "      <td>apr</td>\n",
       "      <td>345</td>\n",
       "      <td>2.0</td>\n",
       "      <td>249</td>\n",
       "      <td>7</td>\n",
       "      <td>other</td>\n",
       "      <td>no</td>\n",
       "    </tr>\n",
       "  </tbody>\n",
       "</table>\n",
       "<p>4521 rows × 17 columns</p>\n",
       "</div>"
      ],
      "text/plain": [
       "      Age            Job  Marital  Education Default  Balance Housing Loan  \\\n",
       "0      30     unemployed  married    primary      no   1787.0      no   no   \n",
       "1      33       services  married  secondary      no   4789.0     yes  yes   \n",
       "2      35     management   single   tertiary      no   1350.0     yes   no   \n",
       "3      30     management  married   tertiary      no   1476.0     yes  yes   \n",
       "4      59    blue-collar  married  secondary      no      0.0     yes   no   \n",
       "...   ...            ...      ...        ...     ...      ...     ...  ...   \n",
       "4516   33       services  married  secondary      no   -333.0     yes   no   \n",
       "4517   57  self-employed  married   tertiary     yes  -3313.0     yes  yes   \n",
       "4518   57     technician  married  secondary      no    295.0      no   no   \n",
       "4519   28    blue-collar  married  secondary      no   1137.0      no   no   \n",
       "4520   44   entrepreneur   single   tertiary      no   1136.0     yes  yes   \n",
       "\n",
       "       Contact  Day Month  Duration  Campaign  Pdays  Previous Poutcome   Y  \n",
       "0     cellular   19   oct        79       1.0     -1         0  unknown  no  \n",
       "1     cellular   11   may       220       1.0    339         4  failure  no  \n",
       "2     cellular   16   apr       185       1.0    330         1  failure  no  \n",
       "3      unknown    3   jun       199       NaN     -1         0  unknown  no  \n",
       "4      unknown    5   may       226       NaN     -1         0  unknown  no  \n",
       "...        ...  ...   ...       ...       ...    ...       ...      ...  ..  \n",
       "4516  cellular   30   jul       329       5.0     -1         0  unknown  no  \n",
       "4517   unknown    9   may       153       1.0     -1         0  unknown  no  \n",
       "4518  cellular   19   aug       151      11.0     -1         0  unknown  no  \n",
       "4519  cellular    6   feb       129       4.0    211         3    other  no  \n",
       "4520  cellular    3   apr       345       2.0    249         7    other  no  \n",
       "\n",
       "[4521 rows x 17 columns]"
      ]
     },
     "execution_count": 7,
     "metadata": {},
     "output_type": "execute_result"
    }
   ],
   "source": [
    "df.columns = df.columns.str.title()\n",
    "df"
   ]
  },
  {
   "cell_type": "code",
   "execution_count": 8,
   "id": "f48e670a-19ee-4742-a8c2-2dc1cd613578",
   "metadata": {},
   "outputs": [
    {
     "data": {
      "text/plain": [
       "Index(['Age', 'Job', 'Marital', 'Education', 'Default', 'Balance', 'Housing',\n",
       "       'Loan', 'Contact', 'Day', 'Month', 'Duration', 'Campaign', 'Pdays',\n",
       "       'Previous', 'Poutcome', 'Y'],\n",
       "      dtype='object')"
      ]
     },
     "execution_count": 8,
     "metadata": {},
     "output_type": "execute_result"
    }
   ],
   "source": [
    "df.columns"
   ]
  },
  {
   "cell_type": "code",
   "execution_count": 9,
   "id": "c11781f9-61e6-425d-b16c-cd25f60e6f0e",
   "metadata": {},
   "outputs": [],
   "source": [
    "df.rename(columns={'Marital' : 'Marital_Status',\n",
    "                  'Pdays' : 'Days_Since_Last_Contact',\n",
    "                  'Poutcome' : 'Previous_Outcome',\n",
    "                  'Y' : 'Customer_Subscription'}, inplace=True)"
   ]
  },
  {
   "cell_type": "code",
   "execution_count": 10,
   "id": "22888297-34a8-4812-a059-13cc91ddbe59",
   "metadata": {},
   "outputs": [
    {
     "data": {
      "text/plain": [
       "(4521, 17)"
      ]
     },
     "execution_count": 10,
     "metadata": {},
     "output_type": "execute_result"
    }
   ],
   "source": [
    "df.shape   #rows,columns"
   ]
  },
  {
   "cell_type": "code",
   "execution_count": 11,
   "id": "28de669d-3467-4ac3-8d2c-e3feab9be80a",
   "metadata": {},
   "outputs": [
    {
     "name": "stdout",
     "output_type": "stream",
     "text": [
      "<class 'pandas.core.frame.DataFrame'>\n",
      "RangeIndex: 4521 entries, 0 to 4520\n",
      "Data columns (total 17 columns):\n",
      " #   Column                   Non-Null Count  Dtype  \n",
      "---  ------                   --------------  -----  \n",
      " 0   Age                      4521 non-null   int64  \n",
      " 1   Job                      4521 non-null   object \n",
      " 2   Marital_Status           4521 non-null   object \n",
      " 3   Education                4521 non-null   object \n",
      " 4   Default                  4521 non-null   object \n",
      " 5   Balance                  4495 non-null   float64\n",
      " 6   Housing                  4521 non-null   object \n",
      " 7   Loan                     4521 non-null   object \n",
      " 8   Contact                  4521 non-null   object \n",
      " 9   Day                      4521 non-null   int64  \n",
      " 10  Month                    4521 non-null   object \n",
      " 11  Duration                 4521 non-null   int64  \n",
      " 12  Campaign                 4442 non-null   float64\n",
      " 13  Days_Since_Last_Contact  4521 non-null   int64  \n",
      " 14  Previous                 4521 non-null   int64  \n",
      " 15  Previous_Outcome         4521 non-null   object \n",
      " 16  Customer_Subscription    4521 non-null   object \n",
      "dtypes: float64(2), int64(5), object(10)\n",
      "memory usage: 600.6+ KB\n"
     ]
    }
   ],
   "source": [
    "df.info()"
   ]
  },
  {
   "cell_type": "code",
   "execution_count": 12,
   "id": "c2db8440-9148-46f1-8a86-dc9ba6c12e10",
   "metadata": {},
   "outputs": [
    {
     "data": {
      "text/html": [
       "<div>\n",
       "<style scoped>\n",
       "    .dataframe tbody tr th:only-of-type {\n",
       "        vertical-align: middle;\n",
       "    }\n",
       "\n",
       "    .dataframe tbody tr th {\n",
       "        vertical-align: top;\n",
       "    }\n",
       "\n",
       "    .dataframe thead th {\n",
       "        text-align: right;\n",
       "    }\n",
       "</style>\n",
       "<table border=\"1\" class=\"dataframe\">\n",
       "  <thead>\n",
       "    <tr style=\"text-align: right;\">\n",
       "      <th></th>\n",
       "      <th>Age</th>\n",
       "      <th>Balance</th>\n",
       "      <th>Day</th>\n",
       "      <th>Duration</th>\n",
       "      <th>Campaign</th>\n",
       "      <th>Days_Since_Last_Contact</th>\n",
       "      <th>Previous</th>\n",
       "    </tr>\n",
       "  </thead>\n",
       "  <tbody>\n",
       "    <tr>\n",
       "      <th>count</th>\n",
       "      <td>4521.000000</td>\n",
       "      <td>4495.000000</td>\n",
       "      <td>4521.000000</td>\n",
       "      <td>4521.000000</td>\n",
       "      <td>4442.000000</td>\n",
       "      <td>4521.000000</td>\n",
       "      <td>4521.000000</td>\n",
       "    </tr>\n",
       "    <tr>\n",
       "      <th>mean</th>\n",
       "      <td>41.170095</td>\n",
       "      <td>1423.153504</td>\n",
       "      <td>15.915284</td>\n",
       "      <td>263.961292</td>\n",
       "      <td>2.804818</td>\n",
       "      <td>39.766645</td>\n",
       "      <td>0.542579</td>\n",
       "    </tr>\n",
       "    <tr>\n",
       "      <th>std</th>\n",
       "      <td>10.576211</td>\n",
       "      <td>3015.932038</td>\n",
       "      <td>8.247667</td>\n",
       "      <td>259.856633</td>\n",
       "      <td>3.123293</td>\n",
       "      <td>100.121124</td>\n",
       "      <td>1.693562</td>\n",
       "    </tr>\n",
       "    <tr>\n",
       "      <th>min</th>\n",
       "      <td>19.000000</td>\n",
       "      <td>-3313.000000</td>\n",
       "      <td>1.000000</td>\n",
       "      <td>4.000000</td>\n",
       "      <td>1.000000</td>\n",
       "      <td>-1.000000</td>\n",
       "      <td>0.000000</td>\n",
       "    </tr>\n",
       "    <tr>\n",
       "      <th>25%</th>\n",
       "      <td>33.000000</td>\n",
       "      <td>69.000000</td>\n",
       "      <td>9.000000</td>\n",
       "      <td>104.000000</td>\n",
       "      <td>1.000000</td>\n",
       "      <td>-1.000000</td>\n",
       "      <td>0.000000</td>\n",
       "    </tr>\n",
       "    <tr>\n",
       "      <th>50%</th>\n",
       "      <td>39.000000</td>\n",
       "      <td>443.000000</td>\n",
       "      <td>16.000000</td>\n",
       "      <td>185.000000</td>\n",
       "      <td>2.000000</td>\n",
       "      <td>-1.000000</td>\n",
       "      <td>0.000000</td>\n",
       "    </tr>\n",
       "    <tr>\n",
       "      <th>75%</th>\n",
       "      <td>49.000000</td>\n",
       "      <td>1474.000000</td>\n",
       "      <td>21.000000</td>\n",
       "      <td>329.000000</td>\n",
       "      <td>3.000000</td>\n",
       "      <td>-1.000000</td>\n",
       "      <td>0.000000</td>\n",
       "    </tr>\n",
       "    <tr>\n",
       "      <th>max</th>\n",
       "      <td>87.000000</td>\n",
       "      <td>71188.000000</td>\n",
       "      <td>31.000000</td>\n",
       "      <td>3025.000000</td>\n",
       "      <td>50.000000</td>\n",
       "      <td>871.000000</td>\n",
       "      <td>25.000000</td>\n",
       "    </tr>\n",
       "  </tbody>\n",
       "</table>\n",
       "</div>"
      ],
      "text/plain": [
       "               Age       Balance          Day     Duration     Campaign  \\\n",
       "count  4521.000000   4495.000000  4521.000000  4521.000000  4442.000000   \n",
       "mean     41.170095   1423.153504    15.915284   263.961292     2.804818   \n",
       "std      10.576211   3015.932038     8.247667   259.856633     3.123293   \n",
       "min      19.000000  -3313.000000     1.000000     4.000000     1.000000   \n",
       "25%      33.000000     69.000000     9.000000   104.000000     1.000000   \n",
       "50%      39.000000    443.000000    16.000000   185.000000     2.000000   \n",
       "75%      49.000000   1474.000000    21.000000   329.000000     3.000000   \n",
       "max      87.000000  71188.000000    31.000000  3025.000000    50.000000   \n",
       "\n",
       "       Days_Since_Last_Contact     Previous  \n",
       "count              4521.000000  4521.000000  \n",
       "mean                 39.766645     0.542579  \n",
       "std                 100.121124     1.693562  \n",
       "min                  -1.000000     0.000000  \n",
       "25%                  -1.000000     0.000000  \n",
       "50%                  -1.000000     0.000000  \n",
       "75%                  -1.000000     0.000000  \n",
       "max                 871.000000    25.000000  "
      ]
     },
     "execution_count": 12,
     "metadata": {},
     "output_type": "execute_result"
    }
   ],
   "source": [
    "df.describe()"
   ]
  },
  {
   "cell_type": "code",
   "execution_count": 13,
   "id": "401c9a74-3ae6-42c4-ade0-2b512e951073",
   "metadata": {},
   "outputs": [
    {
     "data": {
      "text/html": [
       "<div>\n",
       "<style scoped>\n",
       "    .dataframe tbody tr th:only-of-type {\n",
       "        vertical-align: middle;\n",
       "    }\n",
       "\n",
       "    .dataframe tbody tr th {\n",
       "        vertical-align: top;\n",
       "    }\n",
       "\n",
       "    .dataframe thead th {\n",
       "        text-align: right;\n",
       "    }\n",
       "</style>\n",
       "<table border=\"1\" class=\"dataframe\">\n",
       "  <thead>\n",
       "    <tr style=\"text-align: right;\">\n",
       "      <th></th>\n",
       "      <th>Age</th>\n",
       "      <th>Job</th>\n",
       "      <th>Marital_Status</th>\n",
       "      <th>Education</th>\n",
       "      <th>Default</th>\n",
       "      <th>Balance</th>\n",
       "      <th>Housing</th>\n",
       "      <th>Loan</th>\n",
       "      <th>Contact</th>\n",
       "      <th>Day</th>\n",
       "      <th>Month</th>\n",
       "      <th>Duration</th>\n",
       "      <th>Campaign</th>\n",
       "      <th>Days_Since_Last_Contact</th>\n",
       "      <th>Previous</th>\n",
       "      <th>Previous_Outcome</th>\n",
       "      <th>Customer_Subscription</th>\n",
       "    </tr>\n",
       "  </thead>\n",
       "  <tbody>\n",
       "    <tr>\n",
       "      <th>count</th>\n",
       "      <td>4521.000000</td>\n",
       "      <td>4521</td>\n",
       "      <td>4521</td>\n",
       "      <td>4521</td>\n",
       "      <td>4521</td>\n",
       "      <td>4495.000000</td>\n",
       "      <td>4521</td>\n",
       "      <td>4521</td>\n",
       "      <td>4521</td>\n",
       "      <td>4521.000000</td>\n",
       "      <td>4521</td>\n",
       "      <td>4521.000000</td>\n",
       "      <td>4442.000000</td>\n",
       "      <td>4521.000000</td>\n",
       "      <td>4521.000000</td>\n",
       "      <td>4521</td>\n",
       "      <td>4521</td>\n",
       "    </tr>\n",
       "    <tr>\n",
       "      <th>unique</th>\n",
       "      <td>NaN</td>\n",
       "      <td>12</td>\n",
       "      <td>3</td>\n",
       "      <td>4</td>\n",
       "      <td>2</td>\n",
       "      <td>NaN</td>\n",
       "      <td>2</td>\n",
       "      <td>2</td>\n",
       "      <td>3</td>\n",
       "      <td>NaN</td>\n",
       "      <td>12</td>\n",
       "      <td>NaN</td>\n",
       "      <td>NaN</td>\n",
       "      <td>NaN</td>\n",
       "      <td>NaN</td>\n",
       "      <td>4</td>\n",
       "      <td>2</td>\n",
       "    </tr>\n",
       "    <tr>\n",
       "      <th>top</th>\n",
       "      <td>NaN</td>\n",
       "      <td>management</td>\n",
       "      <td>married</td>\n",
       "      <td>secondary</td>\n",
       "      <td>no</td>\n",
       "      <td>NaN</td>\n",
       "      <td>yes</td>\n",
       "      <td>no</td>\n",
       "      <td>cellular</td>\n",
       "      <td>NaN</td>\n",
       "      <td>may</td>\n",
       "      <td>NaN</td>\n",
       "      <td>NaN</td>\n",
       "      <td>NaN</td>\n",
       "      <td>NaN</td>\n",
       "      <td>unknown</td>\n",
       "      <td>no</td>\n",
       "    </tr>\n",
       "    <tr>\n",
       "      <th>freq</th>\n",
       "      <td>NaN</td>\n",
       "      <td>969</td>\n",
       "      <td>2797</td>\n",
       "      <td>2306</td>\n",
       "      <td>4445</td>\n",
       "      <td>NaN</td>\n",
       "      <td>2559</td>\n",
       "      <td>3830</td>\n",
       "      <td>2896</td>\n",
       "      <td>NaN</td>\n",
       "      <td>1398</td>\n",
       "      <td>NaN</td>\n",
       "      <td>NaN</td>\n",
       "      <td>NaN</td>\n",
       "      <td>NaN</td>\n",
       "      <td>3705</td>\n",
       "      <td>4000</td>\n",
       "    </tr>\n",
       "    <tr>\n",
       "      <th>mean</th>\n",
       "      <td>41.170095</td>\n",
       "      <td>NaN</td>\n",
       "      <td>NaN</td>\n",
       "      <td>NaN</td>\n",
       "      <td>NaN</td>\n",
       "      <td>1423.153504</td>\n",
       "      <td>NaN</td>\n",
       "      <td>NaN</td>\n",
       "      <td>NaN</td>\n",
       "      <td>15.915284</td>\n",
       "      <td>NaN</td>\n",
       "      <td>263.961292</td>\n",
       "      <td>2.804818</td>\n",
       "      <td>39.766645</td>\n",
       "      <td>0.542579</td>\n",
       "      <td>NaN</td>\n",
       "      <td>NaN</td>\n",
       "    </tr>\n",
       "    <tr>\n",
       "      <th>std</th>\n",
       "      <td>10.576211</td>\n",
       "      <td>NaN</td>\n",
       "      <td>NaN</td>\n",
       "      <td>NaN</td>\n",
       "      <td>NaN</td>\n",
       "      <td>3015.932038</td>\n",
       "      <td>NaN</td>\n",
       "      <td>NaN</td>\n",
       "      <td>NaN</td>\n",
       "      <td>8.247667</td>\n",
       "      <td>NaN</td>\n",
       "      <td>259.856633</td>\n",
       "      <td>3.123293</td>\n",
       "      <td>100.121124</td>\n",
       "      <td>1.693562</td>\n",
       "      <td>NaN</td>\n",
       "      <td>NaN</td>\n",
       "    </tr>\n",
       "    <tr>\n",
       "      <th>min</th>\n",
       "      <td>19.000000</td>\n",
       "      <td>NaN</td>\n",
       "      <td>NaN</td>\n",
       "      <td>NaN</td>\n",
       "      <td>NaN</td>\n",
       "      <td>-3313.000000</td>\n",
       "      <td>NaN</td>\n",
       "      <td>NaN</td>\n",
       "      <td>NaN</td>\n",
       "      <td>1.000000</td>\n",
       "      <td>NaN</td>\n",
       "      <td>4.000000</td>\n",
       "      <td>1.000000</td>\n",
       "      <td>-1.000000</td>\n",
       "      <td>0.000000</td>\n",
       "      <td>NaN</td>\n",
       "      <td>NaN</td>\n",
       "    </tr>\n",
       "    <tr>\n",
       "      <th>25%</th>\n",
       "      <td>33.000000</td>\n",
       "      <td>NaN</td>\n",
       "      <td>NaN</td>\n",
       "      <td>NaN</td>\n",
       "      <td>NaN</td>\n",
       "      <td>69.000000</td>\n",
       "      <td>NaN</td>\n",
       "      <td>NaN</td>\n",
       "      <td>NaN</td>\n",
       "      <td>9.000000</td>\n",
       "      <td>NaN</td>\n",
       "      <td>104.000000</td>\n",
       "      <td>1.000000</td>\n",
       "      <td>-1.000000</td>\n",
       "      <td>0.000000</td>\n",
       "      <td>NaN</td>\n",
       "      <td>NaN</td>\n",
       "    </tr>\n",
       "    <tr>\n",
       "      <th>50%</th>\n",
       "      <td>39.000000</td>\n",
       "      <td>NaN</td>\n",
       "      <td>NaN</td>\n",
       "      <td>NaN</td>\n",
       "      <td>NaN</td>\n",
       "      <td>443.000000</td>\n",
       "      <td>NaN</td>\n",
       "      <td>NaN</td>\n",
       "      <td>NaN</td>\n",
       "      <td>16.000000</td>\n",
       "      <td>NaN</td>\n",
       "      <td>185.000000</td>\n",
       "      <td>2.000000</td>\n",
       "      <td>-1.000000</td>\n",
       "      <td>0.000000</td>\n",
       "      <td>NaN</td>\n",
       "      <td>NaN</td>\n",
       "    </tr>\n",
       "    <tr>\n",
       "      <th>75%</th>\n",
       "      <td>49.000000</td>\n",
       "      <td>NaN</td>\n",
       "      <td>NaN</td>\n",
       "      <td>NaN</td>\n",
       "      <td>NaN</td>\n",
       "      <td>1474.000000</td>\n",
       "      <td>NaN</td>\n",
       "      <td>NaN</td>\n",
       "      <td>NaN</td>\n",
       "      <td>21.000000</td>\n",
       "      <td>NaN</td>\n",
       "      <td>329.000000</td>\n",
       "      <td>3.000000</td>\n",
       "      <td>-1.000000</td>\n",
       "      <td>0.000000</td>\n",
       "      <td>NaN</td>\n",
       "      <td>NaN</td>\n",
       "    </tr>\n",
       "    <tr>\n",
       "      <th>max</th>\n",
       "      <td>87.000000</td>\n",
       "      <td>NaN</td>\n",
       "      <td>NaN</td>\n",
       "      <td>NaN</td>\n",
       "      <td>NaN</td>\n",
       "      <td>71188.000000</td>\n",
       "      <td>NaN</td>\n",
       "      <td>NaN</td>\n",
       "      <td>NaN</td>\n",
       "      <td>31.000000</td>\n",
       "      <td>NaN</td>\n",
       "      <td>3025.000000</td>\n",
       "      <td>50.000000</td>\n",
       "      <td>871.000000</td>\n",
       "      <td>25.000000</td>\n",
       "      <td>NaN</td>\n",
       "      <td>NaN</td>\n",
       "    </tr>\n",
       "  </tbody>\n",
       "</table>\n",
       "</div>"
      ],
      "text/plain": [
       "                Age         Job Marital_Status  Education Default  \\\n",
       "count   4521.000000        4521           4521       4521    4521   \n",
       "unique          NaN          12              3          4       2   \n",
       "top             NaN  management        married  secondary      no   \n",
       "freq            NaN         969           2797       2306    4445   \n",
       "mean      41.170095         NaN            NaN        NaN     NaN   \n",
       "std       10.576211         NaN            NaN        NaN     NaN   \n",
       "min       19.000000         NaN            NaN        NaN     NaN   \n",
       "25%       33.000000         NaN            NaN        NaN     NaN   \n",
       "50%       39.000000         NaN            NaN        NaN     NaN   \n",
       "75%       49.000000         NaN            NaN        NaN     NaN   \n",
       "max       87.000000         NaN            NaN        NaN     NaN   \n",
       "\n",
       "             Balance Housing  Loan   Contact          Day Month     Duration  \\\n",
       "count    4495.000000    4521  4521      4521  4521.000000  4521  4521.000000   \n",
       "unique           NaN       2     2         3          NaN    12          NaN   \n",
       "top              NaN     yes    no  cellular          NaN   may          NaN   \n",
       "freq             NaN    2559  3830      2896          NaN  1398          NaN   \n",
       "mean     1423.153504     NaN   NaN       NaN    15.915284   NaN   263.961292   \n",
       "std      3015.932038     NaN   NaN       NaN     8.247667   NaN   259.856633   \n",
       "min     -3313.000000     NaN   NaN       NaN     1.000000   NaN     4.000000   \n",
       "25%        69.000000     NaN   NaN       NaN     9.000000   NaN   104.000000   \n",
       "50%       443.000000     NaN   NaN       NaN    16.000000   NaN   185.000000   \n",
       "75%      1474.000000     NaN   NaN       NaN    21.000000   NaN   329.000000   \n",
       "max     71188.000000     NaN   NaN       NaN    31.000000   NaN  3025.000000   \n",
       "\n",
       "           Campaign  Days_Since_Last_Contact     Previous Previous_Outcome  \\\n",
       "count   4442.000000              4521.000000  4521.000000             4521   \n",
       "unique          NaN                      NaN          NaN                4   \n",
       "top             NaN                      NaN          NaN          unknown   \n",
       "freq            NaN                      NaN          NaN             3705   \n",
       "mean       2.804818                39.766645     0.542579              NaN   \n",
       "std        3.123293               100.121124     1.693562              NaN   \n",
       "min        1.000000                -1.000000     0.000000              NaN   \n",
       "25%        1.000000                -1.000000     0.000000              NaN   \n",
       "50%        2.000000                -1.000000     0.000000              NaN   \n",
       "75%        3.000000                -1.000000     0.000000              NaN   \n",
       "max       50.000000               871.000000    25.000000              NaN   \n",
       "\n",
       "       Customer_Subscription  \n",
       "count                   4521  \n",
       "unique                     2  \n",
       "top                       no  \n",
       "freq                    4000  \n",
       "mean                     NaN  \n",
       "std                      NaN  \n",
       "min                      NaN  \n",
       "25%                      NaN  \n",
       "50%                      NaN  \n",
       "75%                      NaN  \n",
       "max                      NaN  "
      ]
     },
     "execution_count": 13,
     "metadata": {},
     "output_type": "execute_result"
    }
   ],
   "source": [
    "df.describe(include=\"all\")"
   ]
  },
  {
   "cell_type": "markdown",
   "id": "5be0a41a-41ec-4520-b41e-6552717b4aa1",
   "metadata": {
    "scrolled": true
   },
   "source": [
    " ## **Data Cleaning**\n"
   ]
  },
  {
   "cell_type": "code",
   "execution_count": 14,
   "id": "5f6f39dd-ae30-4b68-acbb-3f99dec911bc",
   "metadata": {},
   "outputs": [
    {
     "data": {
      "text/plain": [
       "Age                          int64\n",
       "Job                         object\n",
       "Marital_Status              object\n",
       "Education                   object\n",
       "Default                     object\n",
       "Balance                    float64\n",
       "Housing                     object\n",
       "Loan                        object\n",
       "Contact                     object\n",
       "Day                          int64\n",
       "Month                       object\n",
       "Duration                     int64\n",
       "Campaign                   float64\n",
       "Days_Since_Last_Contact      int64\n",
       "Previous                     int64\n",
       "Previous_Outcome            object\n",
       "Customer_Subscription       object\n",
       "dtype: object"
      ]
     },
     "execution_count": 14,
     "metadata": {},
     "output_type": "execute_result"
    }
   ],
   "source": [
    "df.dtypes"
   ]
  },
  {
   "cell_type": "code",
   "execution_count": 15,
   "id": "ccab6834-bd95-43be-a92d-a29fecceae7a",
   "metadata": {},
   "outputs": [],
   "source": [
    "df['Job'] = df['Job'].astype('category')\n",
    "df['Marital_Status'] = df['Marital_Status'].astype('category')\n",
    "df['Education'] = df['Education'].astype('category')\n",
    "df['Default'] = df['Default'].astype('category')\n",
    "df['Housing'] = df['Housing'].astype('category')\n",
    "df['Loan'] = df['Loan'].astype('category')\n",
    "df['Contact'] = df['Contact'].astype('category')\n",
    "df['Month'] = df['Month'].astype('category')\n",
    "df['Previous_Outcome'] = df['Previous_Outcome'].astype('category')\n",
    "df['Customer_Subscription'] = df['Customer_Subscription'].astype('category')"
   ]
  },
  {
   "cell_type": "code",
   "execution_count": 16,
   "id": "0d28f692-cb8b-4d25-ae22-677b09057530",
   "metadata": {},
   "outputs": [
    {
     "data": {
      "text/plain": [
       "Age                           int64\n",
       "Job                        category\n",
       "Marital_Status             category\n",
       "Education                  category\n",
       "Default                    category\n",
       "Balance                     float64\n",
       "Housing                    category\n",
       "Loan                       category\n",
       "Contact                    category\n",
       "Day                           int64\n",
       "Month                      category\n",
       "Duration                      int64\n",
       "Campaign                    float64\n",
       "Days_Since_Last_Contact       int64\n",
       "Previous                      int64\n",
       "Previous_Outcome           category\n",
       "Customer_Subscription      category\n",
       "dtype: object"
      ]
     },
     "execution_count": 16,
     "metadata": {},
     "output_type": "execute_result"
    }
   ],
   "source": [
    "df.dtypes"
   ]
  },
  {
   "cell_type": "code",
   "execution_count": 17,
   "id": "3f001ddd-cb1e-49d9-8de6-ea20e3ae651c",
   "metadata": {},
   "outputs": [
    {
     "data": {
      "text/plain": [
       "Age                          67\n",
       "Job                          12\n",
       "Marital_Status                3\n",
       "Education                     4\n",
       "Default                       2\n",
       "Balance                    2345\n",
       "Housing                       2\n",
       "Loan                          2\n",
       "Contact                       3\n",
       "Day                          31\n",
       "Month                        12\n",
       "Duration                    875\n",
       "Campaign                     32\n",
       "Days_Since_Last_Contact     292\n",
       "Previous                     24\n",
       "Previous_Outcome              4\n",
       "Customer_Subscription         2\n",
       "dtype: int64"
      ]
     },
     "execution_count": 17,
     "metadata": {},
     "output_type": "execute_result"
    }
   ],
   "source": [
    "df.nunique()"
   ]
  },
  {
   "cell_type": "code",
   "execution_count": 18,
   "id": "adc0a225-000f-43b1-849f-c2f2aab17384",
   "metadata": {},
   "outputs": [
    {
     "name": "stdout",
     "output_type": "stream",
     "text": [
      "0       False\n",
      "1       False\n",
      "2       False\n",
      "3       False\n",
      "4       False\n",
      "        ...  \n",
      "4516    False\n",
      "4517    False\n",
      "4518    False\n",
      "4519    False\n",
      "4520    False\n",
      "Length: 4521, dtype: bool\n"
     ]
    }
   ],
   "source": [
    "df_duplicated = df.duplicated()\n",
    "print(df_duplicated)"
   ]
  },
  {
   "cell_type": "code",
   "execution_count": 19,
   "id": "b7c70a7b-eed9-44a5-845e-9f5009912e56",
   "metadata": {},
   "outputs": [
    {
     "data": {
      "text/plain": [
       "0"
      ]
     },
     "execution_count": 19,
     "metadata": {},
     "output_type": "execute_result"
    }
   ],
   "source": [
    "df.duplicated().sum()"
   ]
  },
  {
   "cell_type": "code",
   "execution_count": 20,
   "id": "4ab63027-c930-4e08-b887-45c35afb25a4",
   "metadata": {},
   "outputs": [],
   "source": [
    "df.drop_duplicates(inplace=True)"
   ]
  },
  {
   "cell_type": "code",
   "execution_count": 21,
   "id": "a2f995a7-30e0-4bf6-b681-0ba8b851045e",
   "metadata": {},
   "outputs": [
    {
     "data": {
      "text/plain": [
       "Job\n",
       "unknown          0.008405\n",
       "student          0.018580\n",
       "housemaid        0.024773\n",
       "unemployed       0.028312\n",
       "entrepreneur     0.037160\n",
       "self-employed    0.040478\n",
       "retired          0.050874\n",
       "services         0.092236\n",
       "admin.           0.105729\n",
       "technician       0.169874\n",
       "blue-collar      0.209246\n",
       "management       0.214333\n",
       "Name: proportion, dtype: float64"
      ]
     },
     "execution_count": 21,
     "metadata": {},
     "output_type": "execute_result"
    }
   ],
   "source": [
    "df['Job'].value_counts(normalize=True,ascending=True)"
   ]
  },
  {
   "cell_type": "code",
   "execution_count": 22,
   "id": "c6ca80a8-6b89-46e2-ba20-6870ff6d1e00",
   "metadata": {},
   "outputs": [
    {
     "data": {
      "text/plain": [
       "Age                         0\n",
       "Job                         0\n",
       "Marital_Status              0\n",
       "Education                   0\n",
       "Default                     0\n",
       "Balance                    26\n",
       "Housing                     0\n",
       "Loan                        0\n",
       "Contact                     0\n",
       "Day                         0\n",
       "Month                       0\n",
       "Duration                    0\n",
       "Campaign                   79\n",
       "Days_Since_Last_Contact     0\n",
       "Previous                    0\n",
       "Previous_Outcome            0\n",
       "Customer_Subscription       0\n",
       "dtype: int64"
      ]
     },
     "execution_count": 22,
     "metadata": {},
     "output_type": "execute_result"
    }
   ],
   "source": [
    "df.isnull().sum()"
   ]
  },
  {
   "cell_type": "code",
   "execution_count": 23,
   "id": "37e1287d-7899-44ed-80eb-7730c967a69f",
   "metadata": {},
   "outputs": [
    {
     "data": {
      "text/plain": [
       "Age                        0.000000\n",
       "Job                        0.000000\n",
       "Marital_Status             0.000000\n",
       "Education                  0.000000\n",
       "Default                    0.000000\n",
       "Balance                    0.575094\n",
       "Housing                    0.000000\n",
       "Loan                       0.000000\n",
       "Contact                    0.000000\n",
       "Day                        0.000000\n",
       "Month                      0.000000\n",
       "Duration                   0.000000\n",
       "Campaign                   1.747401\n",
       "Days_Since_Last_Contact    0.000000\n",
       "Previous                   0.000000\n",
       "Previous_Outcome           0.000000\n",
       "Customer_Subscription      0.000000\n",
       "dtype: float64"
      ]
     },
     "execution_count": 23,
     "metadata": {},
     "output_type": "execute_result"
    }
   ],
   "source": [
    "(df.isnull().sum()/len(df))*100"
   ]
  },
  {
   "cell_type": "code",
   "execution_count": 24,
   "id": "e573e41e-6740-4621-b536-b87616147be9",
   "metadata": {},
   "outputs": [
    {
     "data": {
      "text/plain": [
       "0       1787.0\n",
       "1       4789.0\n",
       "2       1350.0\n",
       "3       1476.0\n",
       "4          0.0\n",
       "         ...  \n",
       "4516    -333.0\n",
       "4517   -3313.0\n",
       "4518     295.0\n",
       "4519    1137.0\n",
       "4520    1136.0\n",
       "Name: Balance, Length: 4521, dtype: float64"
      ]
     },
     "execution_count": 24,
     "metadata": {},
     "output_type": "execute_result"
    }
   ],
   "source": [
    "df['Balance']"
   ]
  },
  {
   "cell_type": "code",
   "execution_count": 25,
   "id": "e8f247ac-1aea-4b51-a2e5-67308332c72d",
   "metadata": {},
   "outputs": [
    {
     "data": {
      "text/plain": [
       "0    0.0\n",
       "Name: Balance, dtype: float64"
      ]
     },
     "execution_count": 25,
     "metadata": {},
     "output_type": "execute_result"
    }
   ],
   "source": [
    "df['Balance'].mode()"
   ]
  },
  {
   "cell_type": "code",
   "execution_count": 26,
   "id": "74494aa0-280d-4a37-8279-965864ba3010",
   "metadata": {},
   "outputs": [
    {
     "data": {
      "text/plain": [
       "0"
      ]
     },
     "execution_count": 26,
     "metadata": {},
     "output_type": "execute_result"
    }
   ],
   "source": [
    "df_Balance = df['Balance'].mean()\n",
    "df['Balance'] = df['Balance'].fillna(df_Balance)\n",
    "df['Balance'].isnull().sum()"
   ]
  },
  {
   "cell_type": "code",
   "execution_count": 27,
   "id": "519a021b-ecb4-45b8-838e-7625cd30374e",
   "metadata": {},
   "outputs": [
    {
     "data": {
      "text/plain": [
       "array([ 1., nan,  2.,  4.,  3.,  5.,  6., 10.,  9.,  7., 12., 14., 13.,\n",
       "       24., 11.,  8., 29., 32., 16., 22., 18., 15., 30., 25., 21., 17.,\n",
       "       19., 23., 20., 50., 28., 31., 44.])"
      ]
     },
     "execution_count": 27,
     "metadata": {},
     "output_type": "execute_result"
    }
   ],
   "source": [
    "df['Campaign'].unique()"
   ]
  },
  {
   "cell_type": "code",
   "execution_count": 28,
   "id": "b25c04af-0fe4-4d76-ae2c-31672febb414",
   "metadata": {},
   "outputs": [
    {
     "data": {
      "text/plain": [
       "0    1.0\n",
       "Name: Campaign, dtype: float64"
      ]
     },
     "execution_count": 28,
     "metadata": {},
     "output_type": "execute_result"
    }
   ],
   "source": [
    "df['Campaign'].mode()"
   ]
  },
  {
   "cell_type": "code",
   "execution_count": 29,
   "id": "97f4520e-642a-4658-a2ff-9907cde4c40e",
   "metadata": {},
   "outputs": [],
   "source": [
    "df['Campaign'] = df['Campaign'].fillna(df['Campaign'].mode()[0])\n",
    "#using [0] extracts the first (and typically only) mode value to fill the missing values "
   ]
  },
  {
   "cell_type": "code",
   "execution_count": 30,
   "id": "2278870f-076c-4acb-a1cf-9a7c4cca07df",
   "metadata": {},
   "outputs": [
    {
     "data": {
      "text/plain": [
       "0"
      ]
     },
     "execution_count": 30,
     "metadata": {},
     "output_type": "execute_result"
    }
   ],
   "source": [
    "df['Campaign'].isnull().sum()"
   ]
  },
  {
   "cell_type": "code",
   "execution_count": 31,
   "id": "3fd0efca-cef3-4833-abb9-ff0cc51db3d3",
   "metadata": {},
   "outputs": [
    {
     "name": "stdout",
     "output_type": "stream",
     "text": [
      "<class 'pandas.core.frame.DataFrame'>\n",
      "RangeIndex: 4521 entries, 0 to 4520\n",
      "Data columns (total 17 columns):\n",
      " #   Column                   Non-Null Count  Dtype   \n",
      "---  ------                   --------------  -----   \n",
      " 0   Age                      4521 non-null   int64   \n",
      " 1   Job                      4521 non-null   category\n",
      " 2   Marital_Status           4521 non-null   category\n",
      " 3   Education                4521 non-null   category\n",
      " 4   Default                  4521 non-null   category\n",
      " 5   Balance                  4521 non-null   float64 \n",
      " 6   Housing                  4521 non-null   category\n",
      " 7   Loan                     4521 non-null   category\n",
      " 8   Contact                  4521 non-null   category\n",
      " 9   Day                      4521 non-null   int64   \n",
      " 10  Month                    4521 non-null   category\n",
      " 11  Duration                 4521 non-null   int64   \n",
      " 12  Campaign                 4521 non-null   float64 \n",
      " 13  Days_Since_Last_Contact  4521 non-null   int64   \n",
      " 14  Previous                 4521 non-null   int64   \n",
      " 15  Previous_Outcome         4521 non-null   category\n",
      " 16  Customer_Subscription    4521 non-null   category\n",
      "dtypes: category(10), float64(2), int64(5)\n",
      "memory usage: 293.4 KB\n"
     ]
    }
   ],
   "source": [
    "df.info()"
   ]
  },
  {
   "cell_type": "markdown",
   "id": "6b0cadc0-0eda-48f1-8b36-944dfc2ac95a",
   "metadata": {},
   "source": [
    "# **Questions**\n",
    "\n",
    "\r\n",
    "1. **How many married individuals are unemployed?**  \r\n",
    "2. **What is the average age of individuals who subscribed to the term deposit versus those who did not?**  \r\n",
    "3. **How does the average balance of customers change depending on the month they were contacted by the bank?**  \r\n",
    "4. **How does the average duration of customer calls vary by month?**  \r\n",
    "5. **What is the distribution of marital status (married, unmarried, divorced) across different education levels?**  \r\n"
   ]
  },
  {
   "cell_type": "code",
   "execution_count": 32,
   "id": "1e87eac9-ef53-48ca-b508-9492ce00efe2",
   "metadata": {},
   "outputs": [
    {
     "data": {
      "text/plain": [
       "Index(['Age', 'Job', 'Marital_Status', 'Education', 'Default', 'Balance',\n",
       "       'Housing', 'Loan', 'Contact', 'Day', 'Month', 'Duration', 'Campaign',\n",
       "       'Days_Since_Last_Contact', 'Previous', 'Previous_Outcome',\n",
       "       'Customer_Subscription'],\n",
       "      dtype='object')"
      ]
     },
     "execution_count": 32,
     "metadata": {},
     "output_type": "execute_result"
    }
   ],
   "source": [
    "df.columns"
   ]
  },
  {
   "cell_type": "markdown",
   "id": "120ae26e-db5f-41ff-95f0-2114e7f84cec",
   "metadata": {},
   "source": [
    "## **Data Visualization**"
   ]
  },
  {
   "cell_type": "markdown",
   "id": "ff6365ea-0b2f-4ffb-b93f-92b785646a15",
   "metadata": {},
   "source": [
    "1. ## **How many married individuals are unemployed?** "
   ]
  },
  {
   "cell_type": "code",
   "execution_count": 33,
   "id": "be2edcb1-e7e2-44c5-bb94-e5e8dbc88ce2",
   "metadata": {},
   "outputs": [
    {
     "data": {
      "text/plain": [
       "['married', 'single', 'divorced']\n",
       "Categories (3, object): ['divorced', 'married', 'single']"
      ]
     },
     "execution_count": 33,
     "metadata": {},
     "output_type": "execute_result"
    }
   ],
   "source": [
    "df['Marital_Status'].unique()"
   ]
  },
  {
   "cell_type": "code",
   "execution_count": 34,
   "id": "aecb4237-4408-4dee-9c8d-b63aeb69fd72",
   "metadata": {},
   "outputs": [
    {
     "name": "stdout",
     "output_type": "stream",
     "text": [
      "Number of married unemployed individuals: 75\n"
     ]
    }
   ],
   "source": [
    "#filter the dataset for married individuals who are unemployed\n",
    "married_unemployed =df[(df['Marital_Status'] == 'married') & (df['Job'] == 'unemployed')]\n",
    "\n",
    "#count the number of married unemployed individuals\n",
    "count_married_unemployed = married_unemployed.shape[0]\n",
    "print(\"Number of married unemployed individuals:\",count_married_unemployed)"
   ]
  },
  {
   "cell_type": "code",
   "execution_count": 55,
   "id": "069cfc59-1f34-41a8-91e6-4fea86783a03",
   "metadata": {},
   "outputs": [
    {
     "data": {
      "image/png": "[encoded data removed]",
      "text/plain": [
       "<Figure size 640x480 with 1 Axes>"
      ]
     },
     "metadata": {},
     "output_type": "display_data"
    }
   ],
   "source": [
    "sizes = [count_married_unemployed, df.shape[0] - count_married_unemployed]\n",
    "plt.pie(sizes, labels=['Married_unemployed','Other'], colors=['#ff6666','#66b3ff'], \n",
    "        autopct='%1.1f%%', startangle=90, shadow=True)\n",
    "plt.title('proportion of married unemployed individuals', fontsize=16, \n",
    "          fontweight='bold')\n",
    "\n",
    "plt.savefig(\"Chart1.png\",bbox_inches='tight',dpi=300)\n",
    "plt.tight_layout()\n",
    "plt.show()"
   ]
  },
  {
   "cell_type": "markdown",
   "id": "a75362ae-0893-4128-ac54-60d4af06a823",
   "metadata": {},
   "source": [
    "## **Report**\n",
    "The analysis identified number of married unemployed individual in the dataset by filtering for married individuals with an 'unemployed' job status. The result is visualized using pie chart to show the proportion of married unemployed individual compared to the rest. The chart highlights that a small subset of the population falls into this category. This provides insights into the distribution of employment status among married individuals. The visualization aids in understanding the relationship between marital status and employment."
   ]
  },
  {
   "cell_type": "markdown",
   "id": "6ca3f8c8-b25f-4d04-bfe4-5279cee2f9bf",
   "metadata": {},
   "source": [
    "## **2. What is the average age of individuals who subscribed to the term deposit versus those who did not?**"
   ]
  },
  {
   "cell_type": "code",
   "execution_count": 36,
   "id": "3668dd36-e400-469f-807c-aab93998242f",
   "metadata": {},
   "outputs": [
    {
     "data": {
      "text/plain": [
       "['no', 'yes']\n",
       "Categories (2, object): ['no', 'yes']"
      ]
     },
     "execution_count": 36,
     "metadata": {},
     "output_type": "execute_result"
    }
   ],
   "source": [
    "df['Customer_Subscription'].unique()"
   ]
  },
  {
   "cell_type": "code",
   "execution_count": 37,
   "id": "d53d259c-df6d-4645-ba7a-a1c519f27646",
   "metadata": {},
   "outputs": [],
   "source": [
    "# calculate the average age for both groups: subscribed and unsubscribed \n",
    "avg_age_subscribed = df[df['Customer_Subscription'] == 'yes']['Age'].mean()\n",
    "avg_age_not_subscribed = df[df['Customer_Subscription'] == 'no']['Age'].mean()"
   ]
  },
  {
   "cell_type": "code",
   "execution_count": 54,
   "id": "acd6bf28-5989-4fd8-b110-029ef2ad67ec",
   "metadata": {},
   "outputs": [
    {
     "data": {
      "image/png": "[encoded data removed]",
      "text/plain": [
       "<Figure size 1000x600 with 1 Axes>"
      ]
     },
     "metadata": {},
     "output_type": "display_data"
    }
   ],
   "source": [
    "labels = ['Subscribed','Not Subscribed']\n",
    "avg_ages = [avg_age_subscribed , avg_age_not_subscribed]\n",
    "\n",
    "plt.figure(figsize=(10,6))\n",
    "plt.pie(avg_ages, labels=labels, startangle=140, colors=['#66b3ff','#ff9999'])\n",
    "\n",
    "plt.title('Average age of individuals who subscribed VS Did not subscribed to a term deposit',fontsize = 16, fontweight = 'bold')\n",
    "\n",
    "plt.savefig(\"Chart2.png\",bbox_inches='tight',dpi=300)\n",
    "plt.tight_layout()\n",
    "plt.show()"
   ]
  },
  {
   "cell_type": "markdown",
   "id": "4364d8fb-ca4e-4286-9446-d380ce38556a",
   "metadata": {},
   "source": [
    "## **Report**\n",
    "The analysis compares the average age of individuals who subscribed and those who did not to a term deposit using a pie chart. The chart highlights the demographic differences between the two groups. It shows that individuals who subscribed have a distinct average age compared to those who did not. This information can help refine marketing strategies targeted at specific age groups. The visualization provides a clear view of the age distribution in relation to term deposit subscriptions."
   ]
  },
  {
   "cell_type": "markdown",
   "id": "972a7874-450d-4040-b137-60d549e9b722",
   "metadata": {},
   "source": [
    "## **3. How does the average balance of customers change depending on the month they were contacted by the bank?**"
   ]
  },
  {
   "cell_type": "code",
   "execution_count": 39,
   "id": "791e2496-3012-4a99-bf1c-9047b3b6eef4",
   "metadata": {},
   "outputs": [
    {
     "name": "stdout",
     "output_type": "stream",
     "text": [
      "Month\n",
      "apr    1654.243369\n",
      "aug    1457.211323\n",
      "dec    3567.150000\n",
      "feb    1321.461534\n",
      "jan     985.832118\n",
      "jul     794.740464\n",
      "jun    1887.296536\n",
      "mar    2049.530612\n",
      "may    1102.989819\n",
      "nov    2593.759144\n",
      "oct    2738.650000\n",
      "sep    1589.346154\n",
      "Name: Balance, dtype: float64\n"
     ]
    },
    {
     "name": "stderr",
     "output_type": "stream",
     "text": [
      "C:\\Users\\vandanpatel\\AppData\\Local\\Temp\\ipykernel_10172\\3074901001.py:2: FutureWarning: The default of observed=False is deprecated and will be changed to True in a future version of pandas. Pass observed=False to retain current behavior or observed=True to adopt the future default and silence this warning.\n",
      "  avg_balance_per_month = df.groupby('Month')['Balance'].mean()\n"
     ]
    }
   ],
   "source": [
    "# group by 'Month' and calculate the average balance for each month\n",
    "avg_balance_per_month = df.groupby('Month')['Balance'].mean()\n",
    "print(avg_balance_per_month)"
   ]
  },
  {
   "cell_type": "code",
   "execution_count": 53,
   "id": "6d3ce34f-ed05-4a4c-b741-7c2c3e427d8c",
   "metadata": {},
   "outputs": [
    {
     "data": {
      "image/png": "[encoded data removed]",
      "text/plain": [
       "<Figure size 1000x600 with 1 Axes>"
      ]
     },
     "metadata": {},
     "output_type": "display_data"
    }
   ],
   "source": [
    "plt.figure(figsize=(10,6))\n",
    "avg_balance_per_month.plot(kind='barh', color=['#66b3ff','#ff9999','#66b3ff','#ff9999','#66b3ff','#ff9999','#66b3ff','#ff9999','#66b3ff','#ff9999','#66b3ff','#ff9999',])\n",
    "\n",
    "plt.title('Average Balance across diffrent contact Months',fontsize=16, fontweight='bold')\n",
    "plt.ylabel('Month',fontsize=12)\n",
    "plt.xlabel('Average Balance',fontsize=12)\n",
    "\n",
    "plt.savefig(\"Chart3.png\",bbox_inches='tight',dpi=300)\n",
    "plt.tight_layout()\n",
    "plt.show()"
   ]
  },
  {
   "cell_type": "markdown",
   "id": "02efdfe4-820c-473c-ae8b-273d7c260ed4",
   "metadata": {},
   "source": [
    "## **Report**\n",
    "The analysis shows how the average balance varies across different contact months using a horizontal bar chart. The chart reveals fluctuations in average balance throughout the months, with some months having higher average balances than others. These variations might be linked to seasonal factors or marketing campaigns. The visualization provides insights into customer behavior and financial patterns, which could inform targeted marketing strategies. It also highlights months with significant changes in customer balances."
   ]
  },
  {
   "cell_type": "markdown",
   "id": "2f655529-3c2f-4789-a82b-446a849b8b3e",
   "metadata": {},
   "source": [
    "## **4. How does the average duration of customer calls vary by month?**"
   ]
  },
  {
   "cell_type": "code",
   "execution_count": 41,
   "id": "27d7e174-d2e2-49bf-9d6d-8ca8c10d4ad5",
   "metadata": {},
   "outputs": [
    {
     "name": "stderr",
     "output_type": "stream",
     "text": [
      "C:\\Users\\vandanpatel\\AppData\\Local\\Temp\\ipykernel_10172\\2251361688.py:2: FutureWarning: The default of observed=False is deprecated and will be changed to True in a future version of pandas. Pass observed=False to retain current behavior or observed=True to adopt the future default and silence this warning.\n",
      "  avg_duration_per_month = df.groupby('Month')['Duration'].mean()\n"
     ]
    }
   ],
   "source": [
    "# group by 'Month' and calculate the average duration of customer calls for each month\n",
    "avg_duration_per_month = df.groupby('Month')['Duration'].mean()"
   ]
  },
  {
   "cell_type": "code",
   "execution_count": 52,
   "id": "84ba5615-5c1f-44ff-a619-7a5a5d59a3b4",
   "metadata": {},
   "outputs": [
    {
     "data": {
      "image/png": "[encoded data removed]",
      "text/plain": [
       "<Figure size 1000x600 with 1 Axes>"
      ]
     },
     "metadata": {},
     "output_type": "display_data"
    }
   ],
   "source": [
    "plt.figure(figsize=(10,6))\n",
    "avg_duration_per_month.plot(kind='line', marker='o', color='#66b3ff', linestyle='-', linewidth=2)\n",
    "\n",
    "plt.title('Average Duration of Customer calls across different Months', fontsize=16, fontweight='bold')\n",
    "plt.ylabel('Average Duration(seconds)',fontsize=12)\n",
    "plt.xlabel('Month',fontsize=12)\n",
    "\n",
    "plt.xticks(rotation=45)\n",
    "plt.grid(True)\n",
    "plt.savefig(\"Chart4.png\",bbox_inches='tight',dpi=300)\n",
    "plt.tight_layout()\n",
    "plt.show()"
   ]
  },
  {
   "cell_type": "markdown",
   "id": "bf10a899-5ca9-4192-9ec6-77440b840cf6",
   "metadata": {},
   "source": [
    "## **Report**\n",
    "The analysis shows how the average duration of customer calls varies across different months. The line chart indicates fluctuations in call duration over the year. Some months show longer call durations, while others have shorter averages. This trend could reflect seasonal marketing efforts or customer engagement patterns. The visualization helps understand how call durations change over time, which can be useful for evaluating the effectiveness of campaigns or customer service performance."
   ]
  },
  {
   "cell_type": "markdown",
   "id": "6674829b-448a-4207-8acd-45430623c037",
   "metadata": {},
   "source": [
    "## **5. What is the distribution of marital status (married, unmarried, divorced) across different education levels?**"
   ]
  },
  {
   "cell_type": "code",
   "execution_count": 47,
   "id": "b2a57cd6-f26f-4308-963f-77bfb7cd499f",
   "metadata": {},
   "outputs": [
    {
     "name": "stderr",
     "output_type": "stream",
     "text": [
      "C:\\Users\\vandanpatel\\AppData\\Local\\Temp\\ipykernel_10172\\184167415.py:2: FutureWarning: The default of observed=False is deprecated and will be changed to True in a future version of pandas. Pass observed=False to retain current behavior or observed=True to adopt the future default and silence this warning.\n",
      "  education_marital_counts = df.groupby(['Education','Marital_Status']).size().unstack(fill_value=0)\n"
     ]
    }
   ],
   "source": [
    "# group by 'Marital_Status' and 'Education' to get the count of each marital status for each education level\n",
    "education_marital_counts = df.groupby(['Education','Marital_Status']).size().unstack(fill_value=0)"
   ]
  },
  {
   "cell_type": "code",
   "execution_count": 51,
   "id": "14b1b5c1-542b-4ea9-bd8f-3daa1d82f6f3",
   "metadata": {},
   "outputs": [
    {
     "data": {
      "image/png": "[encoded data removed]",
      "text/plain": [
       "<Figure size 1000x600 with 1 Axes>"
      ]
     },
     "metadata": {},
     "output_type": "display_data"
    }
   ],
   "source": [
    "education_marital_counts.plot(kind='bar', stacked=True, color=['#66b3ff','#ff9999', '#ffcc66'], figsize=(10,6))\n",
    "\n",
    "plt.title('Distribution of Marital Status across different Education levels', fontsize=16, fontweight='bold')\n",
    "plt.ylabel('Number of individuals', fontsize=12)\n",
    "plt.xlabel('Education Level', fontsize=12)\n",
    "\n",
    "plt.savefig(\"Chart5.png\",bbox_inches='tight',dpi=300)\n",
    "plt.tight_layout()\n",
    "plt.show()"
   ]
  },
  {
   "cell_type": "markdown",
   "id": "1d885035-79ac-403b-8555-779f8808a6a6",
   "metadata": {},
   "source": [
    "## **Report**\n",
    "The analysis visualizes the distribution of marital status across education levels. Higher education levels shows the more balanced marital status , while lower level have more single individuals. This highlights how marital status varies with education. The chart offers valuable insights for demographic analysis and marketing strategies."
   ]
  }
 ],
 "metadata": {
  "kernelspec": {
   "display_name": "Python 3 (ipykernel)",
   "language": "python",
   "name": "python3"
  },
  "language_info": {
   "codemirror_mode": {
    "name": "ipython",
    "version": 3
   },
   "file_extension": ".py",
   "mimetype": "text/x-python",
   "name": "python",
   "nbconvert_exporter": "python",
   "pygments_lexer": "ipython3",
   "version": "3.12.6"
  }
 },
 "nbformat": 4,
 "nbformat_minor": 5
}
